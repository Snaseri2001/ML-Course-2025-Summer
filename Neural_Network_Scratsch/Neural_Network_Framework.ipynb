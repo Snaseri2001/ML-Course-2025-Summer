{
  "nbformat": 4,
  "nbformat_minor": 0,
  "metadata": {
    "colab": {
      "provenance": []
    },
    "kernelspec": {
      "name": "python3",
      "display_name": "Python 3"
    },
    "language_info": {
      "name": "python"
    }
  },
  "cells": [
    {
      "cell_type": "code",
      "source": [],
      "metadata": {
        "id": "AqLSY-2MFCHP"
      },
      "execution_count": null,
      "outputs": []
    },
    {
      "cell_type": "code",
      "source": [
        "import numpy as np"
      ],
      "metadata": {
        "id": "KpBo1sBYFCFP"
      },
      "execution_count": 1,
      "outputs": []
    },
    {
      "cell_type": "code",
      "execution_count": 66,
      "metadata": {
        "id": "3C-4F_eUE8lx"
      },
      "outputs": [],
      "source": [
        "class Layer():\n",
        "\n",
        "    def __init__(self , output_size , activation_function):\n",
        "        self.input_size = None\n",
        "        self.output_size = output_size\n",
        "        self.input = None\n",
        "        self.output = np.zeros(output_size)\n",
        "        self.weights = []\n",
        "        self.bias = []\n",
        "        self.activation_function = None\n",
        "        self.activation_function_derivative = None\n",
        "\n",
        "        if activation_function == \"relu\":\n",
        "            self.activation_function = self.relu\n",
        "        elif activation_function == \"sigmoid\":\n",
        "            self.activation_function = self.sigmoid\n",
        "        elif activation_function == \"tanh\":\n",
        "            self.activation_function = self.tanh\n",
        "\n",
        "        if activation_function == \"relu\":\n",
        "            self.activation_function_derivative = self.relu_derivative\n",
        "        elif activation_function == \"sigmoid\":\n",
        "            self.activation_function_derivative = self.sigmoid_derivative\n",
        "        elif activation_function == \"tanh\":\n",
        "            self.activation_function_derivative = self.tanh_derivative\n",
        "\n",
        "\n",
        "    def setup(self ,input_size):\n",
        "        self.input_size = input_size\n",
        "        print(self.input_size)\n",
        "        self.weights = np.random.rand(self.input_size, self.output_size)\n",
        "        self.bias = np.random.rand(1, self.output_size)\n",
        "\n",
        "\n",
        "    def forward(self, input):\n",
        "        self.input = input\n",
        "        self.output = np.dot(input, self.weights) + self.bias\n",
        "        return  self.activation_function(self.output)\n",
        "\n",
        "\n",
        "    def backward(self, output_gradient, learning_rate):\n",
        "        output_gradient = output_gradient * self.activation_function_derivative(self.output)\n",
        "        weights_gradient = np.dot(self.input.T, output_gradient)\n",
        "        self.weights -= learning_rate * weights_gradient\n",
        "        self.bias -= learning_rate * output_gradient\n",
        "        backward = np.dot(output_gradient, self.weights.T)\n",
        "        backward = backward\n",
        "        return backward\n",
        "\n",
        "    def sigmoid(self, x):\n",
        "        return 1 / (1 + np.exp(-x))\n",
        "\n",
        "    def tanh(self, x):\n",
        "        return (np.exp(x) - np.exp(-x)) / (np.exp(x) + np.exp(-x))\n",
        "\n",
        "    def relu(self, x):\n",
        "        return np.maximum(0, x)\n",
        "\n",
        "    def relu_derivative(self, x):\n",
        "        return np.where(x > 0, 1, 0)\n",
        "\n",
        "    def sigmoid_derivative(self, x):\n",
        "        return x * (1 - x)\n",
        "\n",
        "    def tanh_derivative(self, x):\n",
        "        return 1 - x**2\n",
        "\n",
        "\n",
        "class softmax_layer():\n",
        "\n",
        "    def __init__(self):\n",
        "        self.input = None\n",
        "        self.output = None\n",
        "\n",
        "    def forward(self, input):\n",
        "        self.input = input\n",
        "        self.output = np.exp(input) / np.sum(np.exp(input), axis=1, keepdims=True)\n",
        "        return self.output\n",
        "\n",
        "\n",
        "\n",
        "class Cross_Entropy_layer():\n",
        "\n",
        "    def __init__(self):\n",
        "        self.target = None\n",
        "        self.input = None\n",
        "        self.output = None\n",
        "        self.loss = None\n",
        "\n",
        "    def forward(self, input, target ):\n",
        "\n",
        "        self.output = self.cross_entropy(input, target)\n",
        "        return self.output\n",
        "\n",
        "    def backward(self):\n",
        "\n",
        "        return self.output - self.target\n",
        "\n",
        "    def cross_entropy(self, input, target):\n",
        "\n",
        "        input = np.clip(input, 1e-15, 1 - 1e-15)\n",
        "        self.loss = -np.sum(target * np.log(input)) / input.shape[0]\n",
        "        return self.loss\n",
        "\n",
        "\n",
        "\n",
        "\n",
        "class Network():\n",
        "\n",
        "  def __init__(self , input_size ):\n",
        "    self.layers = []\n",
        "    self.in_dim =  input_size\n",
        "    self.out_dim = None\n",
        "    self.soft_max_layer = None\n",
        "    self.cross_entropy = None\n",
        "    self.input = None\n",
        "    self.target = None\n",
        "\n",
        "  def add(self, layer):\n",
        "    self.layers.append(layer)\n",
        "\n",
        "  def setup(self , input , target):\n",
        "    self.input = input\n",
        "    self.target = target\n",
        "    self.out_dim = self.layers[-1].output_size\n",
        "    self.layers[0].setup(self.in_dim)\n",
        "    for i in range(1, len(self.layers)):\n",
        "      self.layers[i].setup(self.layers[i-1].output_size)\n",
        "    self.soft_max_layer = softmax_layer()\n",
        "    self.cross_entropy = Cross_Entropy_layer(self.input , self.target)\n",
        "\n",
        "\n",
        "\n",
        "\n",
        "  def forward(self  ):\n",
        "\n",
        "    for i in range(1, len(self.layers)):\n",
        "\n",
        "      self.layers[i].input = self.layers[i-1].forward(input)\n",
        "      self.layers[i].forward()\n",
        "    self.soft_max_layer.forward(self.layers[-1].output)\n",
        "    self.cross_entropy.forward(self.soft_max_layer.output, target)\n",
        "    print(\"Loss = \" , self.cross_entropy.loss)\n",
        "    return self.soft_max_layer.output\n",
        "\n",
        "\n",
        "\n",
        "\n",
        "\n",
        "\n",
        "\n",
        "\n",
        "\n",
        "\n",
        "\n",
        "\n"
      ]
    },
    {
      "cell_type": "code",
      "source": [
        "# Create a simple dataset (1 sample, 4 features, 3 output classes)\n",
        "np.random.seed(0)\n",
        "X = np.random.rand(1, 4)\n",
        "y = np.array([[1, 0, 0]])  # class 0 is correct (one-hot)\n",
        "\n",
        "NoneTypenet = Network(input_size=4)\n",
        "net.add(Layer(output_size=5, activation_function='relu'))  # hidden layer\n",
        "net.add(Layer(output_size=3, activation_function='sigmoid'))  # output layer\n",
        "net.setup()\n",
        "\n",
        "# Forward pass\n",
        "output = net.forward(X , y)\n",
        "\n",
        "print(\"Network output probabilities:\", output)\n"
      ],
      "metadata": {
        "colab": {
          "base_uri": "https://localhost:8080/",
          "height": 471
        },
        "id": "_pLGw_TXGAEz",
        "outputId": "b65120c2-890e-4d37-e642-d0dc5158699e"
      },
      "execution_count": 69,
      "outputs": [
        {
          "output_type": "stream",
          "name": "stdout",
          "text": [
            "4\n",
            "5\n",
            "3\n",
            "5\n",
            "3\n",
            "5\n",
            "3\n",
            "5\n"
          ]
        },
        {
          "output_type": "error",
          "ename": "TypeError",
          "evalue": "Layer.forward() missing 1 required positional argument: 'input'",
          "traceback": [
            "\u001b[0;31m---------------------------------------------------------------------------\u001b[0m",
            "\u001b[0;31mTypeError\u001b[0m                                 Traceback (most recent call last)",
            "\u001b[0;32m<ipython-input-69-0a946ac1f66e>\u001b[0m in \u001b[0;36m<cell line: 0>\u001b[0;34m()\u001b[0m\n\u001b[1;32m     10\u001b[0m \u001b[0;34m\u001b[0m\u001b[0m\n\u001b[1;32m     11\u001b[0m \u001b[0;31m# Forward pass\u001b[0m\u001b[0;34m\u001b[0m\u001b[0;34m\u001b[0m\u001b[0m\n\u001b[0;32m---> 12\u001b[0;31m \u001b[0moutput\u001b[0m \u001b[0;34m=\u001b[0m \u001b[0mnet\u001b[0m\u001b[0;34m.\u001b[0m\u001b[0mforward\u001b[0m\u001b[0;34m(\u001b[0m\u001b[0mX\u001b[0m \u001b[0;34m,\u001b[0m \u001b[0my\u001b[0m\u001b[0;34m)\u001b[0m\u001b[0;34m\u001b[0m\u001b[0;34m\u001b[0m\u001b[0m\n\u001b[0m\u001b[1;32m     13\u001b[0m \u001b[0;34m\u001b[0m\u001b[0m\n\u001b[1;32m     14\u001b[0m \u001b[0mprint\u001b[0m\u001b[0;34m(\u001b[0m\u001b[0;34m\"Network output probabilities:\"\u001b[0m\u001b[0;34m,\u001b[0m \u001b[0moutput\u001b[0m\u001b[0;34m)\u001b[0m\u001b[0;34m\u001b[0m\u001b[0;34m\u001b[0m\u001b[0m\n",
            "\u001b[0;32m<ipython-input-62-edb02fb5642f>\u001b[0m in \u001b[0;36mforward\u001b[0;34m(self, input, target)\u001b[0m\n\u001b[1;32m    137\u001b[0m \u001b[0;34m\u001b[0m\u001b[0m\n\u001b[1;32m    138\u001b[0m       \u001b[0mself\u001b[0m\u001b[0;34m.\u001b[0m\u001b[0mlayers\u001b[0m\u001b[0;34m[\u001b[0m\u001b[0mi\u001b[0m\u001b[0;34m]\u001b[0m\u001b[0;34m.\u001b[0m\u001b[0minput\u001b[0m \u001b[0;34m=\u001b[0m \u001b[0mself\u001b[0m\u001b[0;34m.\u001b[0m\u001b[0mlayers\u001b[0m\u001b[0;34m[\u001b[0m\u001b[0mi\u001b[0m\u001b[0;34m-\u001b[0m\u001b[0;36m1\u001b[0m\u001b[0;34m]\u001b[0m\u001b[0;34m.\u001b[0m\u001b[0mforward\u001b[0m\u001b[0;34m(\u001b[0m\u001b[0minput\u001b[0m\u001b[0;34m)\u001b[0m\u001b[0;34m\u001b[0m\u001b[0;34m\u001b[0m\u001b[0m\n\u001b[0;32m--> 139\u001b[0;31m       \u001b[0mself\u001b[0m\u001b[0;34m.\u001b[0m\u001b[0mlayers\u001b[0m\u001b[0;34m[\u001b[0m\u001b[0mi\u001b[0m\u001b[0;34m]\u001b[0m\u001b[0;34m.\u001b[0m\u001b[0mforward\u001b[0m\u001b[0;34m(\u001b[0m\u001b[0;34m)\u001b[0m\u001b[0;34m\u001b[0m\u001b[0;34m\u001b[0m\u001b[0m\n\u001b[0m\u001b[1;32m    140\u001b[0m     \u001b[0mself\u001b[0m\u001b[0;34m.\u001b[0m\u001b[0msoft_max_layer\u001b[0m\u001b[0;34m.\u001b[0m\u001b[0mforward\u001b[0m\u001b[0;34m(\u001b[0m\u001b[0mself\u001b[0m\u001b[0;34m.\u001b[0m\u001b[0mlayers\u001b[0m\u001b[0;34m[\u001b[0m\u001b[0;34m-\u001b[0m\u001b[0;36m1\u001b[0m\u001b[0;34m]\u001b[0m\u001b[0;34m.\u001b[0m\u001b[0moutput\u001b[0m\u001b[0;34m)\u001b[0m\u001b[0;34m\u001b[0m\u001b[0;34m\u001b[0m\u001b[0m\n\u001b[1;32m    141\u001b[0m     \u001b[0mself\u001b[0m\u001b[0;34m.\u001b[0m\u001b[0mcross_entropy\u001b[0m\u001b[0;34m.\u001b[0m\u001b[0mforward\u001b[0m\u001b[0;34m(\u001b[0m\u001b[0mself\u001b[0m\u001b[0;34m.\u001b[0m\u001b[0msoft_max_layer\u001b[0m\u001b[0;34m.\u001b[0m\u001b[0moutput\u001b[0m\u001b[0;34m,\u001b[0m \u001b[0mtarget\u001b[0m\u001b[0;34m)\u001b[0m\u001b[0;34m\u001b[0m\u001b[0;34m\u001b[0m\u001b[0m\n",
            "\u001b[0;31mTypeError\u001b[0m: Layer.forward() missing 1 required positional argument: 'input'"
          ]
        }
      ]
    },
    {
      "cell_type": "code",
      "source": [
        "input = [1,2,3]\n",
        "layer1 = Layer(2, \"sigmoid\")\n",
        "layer2 = Layer(5 , \"sigmoid\")\n",
        "layer3 = Layer(2 , \"sigmoid\")\n",
        "softmax_layer1 = softmax_layer()\n",
        "layer1.setup(3)\n",
        "layer2.setup(2)\n",
        "layer3.setup(5)\n",
        "output = layer1.forward(input)\n",
        "output = layer2.forward(output)\n",
        "output = layer3.forward(output)\n",
        "output = softmax_layer1.forward(output)"
      ],
      "metadata": {
        "id": "h1Ot06gLTDi3"
      },
      "execution_count": 32,
      "outputs": []
    },
    {
      "cell_type": "code",
      "source": [
        "print(output)"
      ],
      "metadata": {
        "colab": {
          "base_uri": "https://localhost:8080/"
        },
        "id": "Sf-QAi_uTj7v",
        "outputId": "08038d24-d481-49c5-bc6e-f55435109320"
      },
      "execution_count": 33,
      "outputs": [
        {
          "output_type": "stream",
          "name": "stdout",
          "text": [
            "[[0.51995055 0.48004945]]\n"
          ]
        }
      ]
    },
    {
      "cell_type": "code",
      "source": [
        "ce = Cross_Entropy_layer()\n"
      ],
      "metadata": {
        "id": "4zi3uf8FMyC5"
      },
      "execution_count": 39,
      "outputs": []
    },
    {
      "cell_type": "code",
      "source": [
        "a = layer3.backward(output, 0.01)\n",
        "a=layer2.backward(a, 0.01)\n"
      ],
      "metadata": {
        "id": "WAZsLgGUTDZ7"
      },
      "execution_count": 8,
      "outputs": []
    },
    {
      "cell_type": "code",
      "source": [
        "print(ce.forward(output, np.array([1,0])))"
      ],
      "metadata": {
        "colab": {
          "base_uri": "https://localhost:8080/"
        },
        "id": "ZVgw-S1RGDBk",
        "outputId": "4988130d-2413-4a4f-c0a9-9278170d0f05"
      },
      "execution_count": 43,
      "outputs": [
        {
          "output_type": "stream",
          "name": "stdout",
          "text": [
            "0.6540215707169154\n"
          ]
        }
      ]
    },
    {
      "cell_type": "code",
      "source": [
        "class Network():\n",
        "\n",
        "\n",
        "  def __init__(self):\n",
        "    self.layers = []\n",
        "    self.loss = None\n",
        "    self.in_dim = None\n",
        "    self.out_dim = None\n",
        "\n",
        "  def add(self, layer):\n",
        "    self.layers.append(layer)\n",
        "\n",
        "  def forward(self, input):\n",
        "    self.layers[0].input = input\n",
        "    for i in range(1, len(self.layers)):\n",
        "      self.layers[i].input = self.layers[i-1].output\n",
        "      self.layers[i].forward()\n",
        "    self.layers[-1].output = self.layers[-1].input\n",
        "    return self.layers[-1].output\n"
      ],
      "metadata": {
        "id": "MQ3GrJ7tKpUa"
      },
      "execution_count": null,
      "outputs": []
    },
    {
      "cell_type": "code",
      "source": [
        "a = np.tanh"
      ],
      "metadata": {
        "id": "ahcGjB1BidZ9"
      },
      "execution_count": 10,
      "outputs": []
    },
    {
      "cell_type": "code",
      "source": [
        "a(4)"
      ],
      "metadata": {
        "colab": {
          "base_uri": "https://localhost:8080/"
        },
        "id": "_2QJBTXIiiad",
        "outputId": "444da661-ef0d-45a0-96ca-a4491edc6691"
      },
      "execution_count": 11,
      "outputs": [
        {
          "output_type": "execute_result",
          "data": {
            "text/plain": [
              "np.float64(0.999329299739067)"
            ]
          },
          "metadata": {},
          "execution_count": 11
        }
      ]
    }
  ]
}