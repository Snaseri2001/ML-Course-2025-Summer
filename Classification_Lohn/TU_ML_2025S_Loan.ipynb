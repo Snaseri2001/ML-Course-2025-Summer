{
  "nbformat": 4,
  "nbformat_minor": 0,
  "metadata": {
    "colab": {
      "provenance": [],
      "collapsed_sections": [
        "SKEEhguvHINf",
        "85s7QOzqSAvY",
        "CFc9siOUS9Jg"
      ]
    },
    "kernelspec": {
      "name": "python3",
      "display_name": "Python 3"
    },
    "language_info": {
      "name": "python"
    }
  },
  "cells": [
    {
      "cell_type": "markdown",
      "source": [],
      "metadata": {
        "id": "dHJni6daYA3e"
      }
    },
    {
      "cell_type": "code",
      "source": [
        "!pip install keras-tuner\n",
        "!pip install scikeras\n",
        "!pip install --upgrade scikeras"
      ],
      "metadata": {
        "colab": {
          "base_uri": "https://localhost:8080/"
        },
        "id": "lsvpJcIOIdWv",
        "outputId": "efbae471-f4d2-4f46-c759-5ff4a1827e1e"
      },
      "execution_count": 128,
      "outputs": [
        {
          "output_type": "stream",
          "name": "stdout",
          "text": [
            "Requirement already satisfied: keras-tuner in /usr/local/lib/python3.11/dist-packages (1.4.7)\n",
            "Requirement already satisfied: keras in /usr/local/lib/python3.11/dist-packages (from keras-tuner) (3.8.0)\n",
            "Requirement already satisfied: packaging in /usr/local/lib/python3.11/dist-packages (from keras-tuner) (24.2)\n",
            "Requirement already satisfied: requests in /usr/local/lib/python3.11/dist-packages (from keras-tuner) (2.32.3)\n",
            "Requirement already satisfied: kt-legacy in /usr/local/lib/python3.11/dist-packages (from keras-tuner) (1.0.5)\n",
            "Requirement already satisfied: absl-py in /usr/local/lib/python3.11/dist-packages (from keras->keras-tuner) (1.4.0)\n",
            "Requirement already satisfied: numpy in /usr/local/lib/python3.11/dist-packages (from keras->keras-tuner) (2.0.2)\n",
            "Requirement already satisfied: rich in /usr/local/lib/python3.11/dist-packages (from keras->keras-tuner) (13.9.4)\n",
            "Requirement already satisfied: namex in /usr/local/lib/python3.11/dist-packages (from keras->keras-tuner) (0.0.8)\n",
            "Requirement already satisfied: h5py in /usr/local/lib/python3.11/dist-packages (from keras->keras-tuner) (3.13.0)\n",
            "Requirement already satisfied: optree in /usr/local/lib/python3.11/dist-packages (from keras->keras-tuner) (0.14.1)\n",
            "Requirement already satisfied: ml-dtypes in /usr/local/lib/python3.11/dist-packages (from keras->keras-tuner) (0.4.1)\n",
            "Requirement already satisfied: charset-normalizer<4,>=2 in /usr/local/lib/python3.11/dist-packages (from requests->keras-tuner) (3.4.1)\n",
            "Requirement already satisfied: idna<4,>=2.5 in /usr/local/lib/python3.11/dist-packages (from requests->keras-tuner) (3.10)\n",
            "Requirement already satisfied: urllib3<3,>=1.21.1 in /usr/local/lib/python3.11/dist-packages (from requests->keras-tuner) (2.3.0)\n",
            "Requirement already satisfied: certifi>=2017.4.17 in /usr/local/lib/python3.11/dist-packages (from requests->keras-tuner) (2025.1.31)\n",
            "Requirement already satisfied: typing-extensions>=4.5.0 in /usr/local/lib/python3.11/dist-packages (from optree->keras->keras-tuner) (4.13.1)\n",
            "Requirement already satisfied: markdown-it-py>=2.2.0 in /usr/local/lib/python3.11/dist-packages (from rich->keras->keras-tuner) (3.0.0)\n",
            "Requirement already satisfied: pygments<3.0.0,>=2.13.0 in /usr/local/lib/python3.11/dist-packages (from rich->keras->keras-tuner) (2.18.0)\n",
            "Requirement already satisfied: mdurl~=0.1 in /usr/local/lib/python3.11/dist-packages (from markdown-it-py>=2.2.0->rich->keras->keras-tuner) (0.1.2)\n",
            "Requirement already satisfied: scikeras in /usr/local/lib/python3.11/dist-packages (0.13.0)\n",
            "Requirement already satisfied: keras>=3.2.0 in /usr/local/lib/python3.11/dist-packages (from scikeras) (3.8.0)\n",
            "Requirement already satisfied: scikit-learn>=1.4.2 in /usr/local/lib/python3.11/dist-packages (from scikeras) (1.6.1)\n",
            "Requirement already satisfied: absl-py in /usr/local/lib/python3.11/dist-packages (from keras>=3.2.0->scikeras) (1.4.0)\n",
            "Requirement already satisfied: numpy in /usr/local/lib/python3.11/dist-packages (from keras>=3.2.0->scikeras) (2.0.2)\n",
            "Requirement already satisfied: rich in /usr/local/lib/python3.11/dist-packages (from keras>=3.2.0->scikeras) (13.9.4)\n",
            "Requirement already satisfied: namex in /usr/local/lib/python3.11/dist-packages (from keras>=3.2.0->scikeras) (0.0.8)\n",
            "Requirement already satisfied: h5py in /usr/local/lib/python3.11/dist-packages (from keras>=3.2.0->scikeras) (3.13.0)\n",
            "Requirement already satisfied: optree in /usr/local/lib/python3.11/dist-packages (from keras>=3.2.0->scikeras) (0.14.1)\n",
            "Requirement already satisfied: ml-dtypes in /usr/local/lib/python3.11/dist-packages (from keras>=3.2.0->scikeras) (0.4.1)\n",
            "Requirement already satisfied: packaging in /usr/local/lib/python3.11/dist-packages (from keras>=3.2.0->scikeras) (24.2)\n",
            "Requirement already satisfied: scipy>=1.6.0 in /usr/local/lib/python3.11/dist-packages (from scikit-learn>=1.4.2->scikeras) (1.14.1)\n",
            "Requirement already satisfied: joblib>=1.2.0 in /usr/local/lib/python3.11/dist-packages (from scikit-learn>=1.4.2->scikeras) (1.4.2)\n",
            "Requirement already satisfied: threadpoolctl>=3.1.0 in /usr/local/lib/python3.11/dist-packages (from scikit-learn>=1.4.2->scikeras) (3.6.0)\n",
            "Requirement already satisfied: typing-extensions>=4.5.0 in /usr/local/lib/python3.11/dist-packages (from optree->keras>=3.2.0->scikeras) (4.13.1)\n",
            "Requirement already satisfied: markdown-it-py>=2.2.0 in /usr/local/lib/python3.11/dist-packages (from rich->keras>=3.2.0->scikeras) (3.0.0)\n",
            "Requirement already satisfied: pygments<3.0.0,>=2.13.0 in /usr/local/lib/python3.11/dist-packages (from rich->keras>=3.2.0->scikeras) (2.18.0)\n",
            "Requirement already satisfied: mdurl~=0.1 in /usr/local/lib/python3.11/dist-packages (from markdown-it-py>=2.2.0->rich->keras>=3.2.0->scikeras) (0.1.2)\n",
            "Requirement already satisfied: scikeras in /usr/local/lib/python3.11/dist-packages (0.13.0)\n",
            "Requirement already satisfied: keras>=3.2.0 in /usr/local/lib/python3.11/dist-packages (from scikeras) (3.8.0)\n",
            "Requirement already satisfied: scikit-learn>=1.4.2 in /usr/local/lib/python3.11/dist-packages (from scikeras) (1.6.1)\n",
            "Requirement already satisfied: absl-py in /usr/local/lib/python3.11/dist-packages (from keras>=3.2.0->scikeras) (1.4.0)\n",
            "Requirement already satisfied: numpy in /usr/local/lib/python3.11/dist-packages (from keras>=3.2.0->scikeras) (2.0.2)\n",
            "Requirement already satisfied: rich in /usr/local/lib/python3.11/dist-packages (from keras>=3.2.0->scikeras) (13.9.4)\n",
            "Requirement already satisfied: namex in /usr/local/lib/python3.11/dist-packages (from keras>=3.2.0->scikeras) (0.0.8)\n",
            "Requirement already satisfied: h5py in /usr/local/lib/python3.11/dist-packages (from keras>=3.2.0->scikeras) (3.13.0)\n",
            "Requirement already satisfied: optree in /usr/local/lib/python3.11/dist-packages (from keras>=3.2.0->scikeras) (0.14.1)\n",
            "Requirement already satisfied: ml-dtypes in /usr/local/lib/python3.11/dist-packages (from keras>=3.2.0->scikeras) (0.4.1)\n",
            "Requirement already satisfied: packaging in /usr/local/lib/python3.11/dist-packages (from keras>=3.2.0->scikeras) (24.2)\n",
            "Requirement already satisfied: scipy>=1.6.0 in /usr/local/lib/python3.11/dist-packages (from scikit-learn>=1.4.2->scikeras) (1.14.1)\n",
            "Requirement already satisfied: joblib>=1.2.0 in /usr/local/lib/python3.11/dist-packages (from scikit-learn>=1.4.2->scikeras) (1.4.2)\n",
            "Requirement already satisfied: threadpoolctl>=3.1.0 in /usr/local/lib/python3.11/dist-packages (from scikit-learn>=1.4.2->scikeras) (3.6.0)\n",
            "Requirement already satisfied: typing-extensions>=4.5.0 in /usr/local/lib/python3.11/dist-packages (from optree->keras>=3.2.0->scikeras) (4.13.1)\n",
            "Requirement already satisfied: markdown-it-py>=2.2.0 in /usr/local/lib/python3.11/dist-packages (from rich->keras>=3.2.0->scikeras) (3.0.0)\n",
            "Requirement already satisfied: pygments<3.0.0,>=2.13.0 in /usr/local/lib/python3.11/dist-packages (from rich->keras>=3.2.0->scikeras) (2.18.0)\n",
            "Requirement already satisfied: mdurl~=0.1 in /usr/local/lib/python3.11/dist-packages (from markdown-it-py>=2.2.0->rich->keras>=3.2.0->scikeras) (0.1.2)\n"
          ]
        }
      ]
    },
    {
      "cell_type": "code",
      "source": [
        "import pandas as pd\n",
        "import numpy as np\n",
        "import matplotlib.pyplot as plt\n",
        "import seaborn as sns\n",
        "from sklearn.model_selection import train_test_split\n",
        "from sklearn.metrics import classification_report,accuracy_score,roc_curve,confusion_matrix\n",
        "from sklearn.metrics import precision_score, recall_score, f1_score\n",
        "from sklearn.preprocessing import LabelEncoder\n",
        "from sklearn.preprocessing import OneHotEncoder"
      ],
      "metadata": {
        "id": "M_aA3idPX8ce"
      },
      "execution_count": 2,
      "outputs": []
    },
    {
      "cell_type": "code",
      "source": [
        "data = pd.read_csv('/content/loan-10k.lrn.csv')\n",
        "final_X_test = pd.read_csv('/content/loan-10k.tes.csv')\n",
        "final_Y_test = pd.read_csv('/content/loan-10k.sol.ex.csv')\n",
        "\n",
        "y_train =  pd.DataFrame( data['grade'])\n",
        "X_train =  pd.DataFrame( data.drop(['grade' , 'ID'], axis=1))\n",
        "\n",
        "X_train, X_test, y_train, y_test = train_test_split(X_train, y_train, test_size=0.1, random_state=42, stratify=y_train)\n"
      ],
      "metadata": {
        "id": "RR-b5RM0X8eu"
      },
      "execution_count": 219,
      "outputs": []
    },
    {
      "cell_type": "code",
      "source": [
        "data.head()"
      ],
      "metadata": {
        "colab": {
          "base_uri": "https://localhost:8080/",
          "height": 342
        },
        "id": "w6godmM-X8jV",
        "outputId": "69472fd1-df63-4610-fc7f-d33f39bb0012"
      },
      "execution_count": null,
      "outputs": [
        {
          "output_type": "execute_result",
          "data": {
            "text/plain": [
              "      ID  loan_amnt  funded_amnt  funded_amnt_inv        term  int_rate  \\\n",
              "0  24341    12500.0      12500.0          12500.0   36 months      7.21   \n",
              "1  67534    33850.0      33850.0          33775.0   60 months     20.99   \n",
              "2  35080    10000.0      10000.0          10000.0   60 months     20.00   \n",
              "3   4828    20250.0      20250.0          20250.0   36 months     14.31   \n",
              "4  59259    25000.0      25000.0          25000.0   36 months     14.99   \n",
              "\n",
              "   installment emp_length home_ownership  annual_inc  ...  \\\n",
              "0       387.17   < 1 year       MORTGAGE     81000.0  ...   \n",
              "1       915.57     1 year       MORTGAGE     80000.0  ...   \n",
              "2       264.94   < 1 year           RENT     36580.0  ...   \n",
              "3       695.15    9 years           RENT     48700.0  ...   \n",
              "4       866.52     1 year       MORTGAGE     85000.0  ...   \n",
              "\n",
              "  debt_settlement_flag issue_d_month issue_d_year earliest_cr_line_month  \\\n",
              "0                    N             6         2018                      6   \n",
              "1                    N            10         2015                      9   \n",
              "2                    N             9         2017                     10   \n",
              "3                    N             0         2015                      6   \n",
              "4                    N            11         2016                      0   \n",
              "\n",
              "  earliest_cr_line_year  last_pymnt_d_month  last_pymnt_d_year  \\\n",
              "0                  2000                   2               2019   \n",
              "1                  1984                   2               2019   \n",
              "2                  2006                   1               2018   \n",
              "3                  1996                   6               2016   \n",
              "4                  2002                   2               2019   \n",
              "\n",
              "   last_credit_pull_d_month  last_credit_pull_d_year  grade  \n",
              "0                         2                     2019      A  \n",
              "1                         2                     2019      E  \n",
              "2                        11                     2018      D  \n",
              "3                         9                     2017      C  \n",
              "4                         2                     2019      C  \n",
              "\n",
              "[5 rows x 92 columns]"
            ],
            "text/html": [
              "\n",
              "  <div id=\"df-46cdf42a-faca-4a9e-b450-8c25124e0859\" class=\"colab-df-container\">\n",
              "    <div>\n",
              "<style scoped>\n",
              "    .dataframe tbody tr th:only-of-type {\n",
              "        vertical-align: middle;\n",
              "    }\n",
              "\n",
              "    .dataframe tbody tr th {\n",
              "        vertical-align: top;\n",
              "    }\n",
              "\n",
              "    .dataframe thead th {\n",
              "        text-align: right;\n",
              "    }\n",
              "</style>\n",
              "<table border=\"1\" class=\"dataframe\">\n",
              "  <thead>\n",
              "    <tr style=\"text-align: right;\">\n",
              "      <th></th>\n",
              "      <th>ID</th>\n",
              "      <th>loan_amnt</th>\n",
              "      <th>funded_amnt</th>\n",
              "      <th>funded_amnt_inv</th>\n",
              "      <th>term</th>\n",
              "      <th>int_rate</th>\n",
              "      <th>installment</th>\n",
              "      <th>emp_length</th>\n",
              "      <th>home_ownership</th>\n",
              "      <th>annual_inc</th>\n",
              "      <th>...</th>\n",
              "      <th>debt_settlement_flag</th>\n",
              "      <th>issue_d_month</th>\n",
              "      <th>issue_d_year</th>\n",
              "      <th>earliest_cr_line_month</th>\n",
              "      <th>earliest_cr_line_year</th>\n",
              "      <th>last_pymnt_d_month</th>\n",
              "      <th>last_pymnt_d_year</th>\n",
              "      <th>last_credit_pull_d_month</th>\n",
              "      <th>last_credit_pull_d_year</th>\n",
              "      <th>grade</th>\n",
              "    </tr>\n",
              "  </thead>\n",
              "  <tbody>\n",
              "    <tr>\n",
              "      <th>0</th>\n",
              "      <td>24341</td>\n",
              "      <td>12500.0</td>\n",
              "      <td>12500.0</td>\n",
              "      <td>12500.0</td>\n",
              "      <td>36 months</td>\n",
              "      <td>7.21</td>\n",
              "      <td>387.17</td>\n",
              "      <td>&lt; 1 year</td>\n",
              "      <td>MORTGAGE</td>\n",
              "      <td>81000.0</td>\n",
              "      <td>...</td>\n",
              "      <td>N</td>\n",
              "      <td>6</td>\n",
              "      <td>2018</td>\n",
              "      <td>6</td>\n",
              "      <td>2000</td>\n",
              "      <td>2</td>\n",
              "      <td>2019</td>\n",
              "      <td>2</td>\n",
              "      <td>2019</td>\n",
              "      <td>A</td>\n",
              "    </tr>\n",
              "    <tr>\n",
              "      <th>1</th>\n",
              "      <td>67534</td>\n",
              "      <td>33850.0</td>\n",
              "      <td>33850.0</td>\n",
              "      <td>33775.0</td>\n",
              "      <td>60 months</td>\n",
              "      <td>20.99</td>\n",
              "      <td>915.57</td>\n",
              "      <td>1 year</td>\n",
              "      <td>MORTGAGE</td>\n",
              "      <td>80000.0</td>\n",
              "      <td>...</td>\n",
              "      <td>N</td>\n",
              "      <td>10</td>\n",
              "      <td>2015</td>\n",
              "      <td>9</td>\n",
              "      <td>1984</td>\n",
              "      <td>2</td>\n",
              "      <td>2019</td>\n",
              "      <td>2</td>\n",
              "      <td>2019</td>\n",
              "      <td>E</td>\n",
              "    </tr>\n",
              "    <tr>\n",
              "      <th>2</th>\n",
              "      <td>35080</td>\n",
              "      <td>10000.0</td>\n",
              "      <td>10000.0</td>\n",
              "      <td>10000.0</td>\n",
              "      <td>60 months</td>\n",
              "      <td>20.00</td>\n",
              "      <td>264.94</td>\n",
              "      <td>&lt; 1 year</td>\n",
              "      <td>RENT</td>\n",
              "      <td>36580.0</td>\n",
              "      <td>...</td>\n",
              "      <td>N</td>\n",
              "      <td>9</td>\n",
              "      <td>2017</td>\n",
              "      <td>10</td>\n",
              "      <td>2006</td>\n",
              "      <td>1</td>\n",
              "      <td>2018</td>\n",
              "      <td>11</td>\n",
              "      <td>2018</td>\n",
              "      <td>D</td>\n",
              "    </tr>\n",
              "    <tr>\n",
              "      <th>3</th>\n",
              "      <td>4828</td>\n",
              "      <td>20250.0</td>\n",
              "      <td>20250.0</td>\n",
              "      <td>20250.0</td>\n",
              "      <td>36 months</td>\n",
              "      <td>14.31</td>\n",
              "      <td>695.15</td>\n",
              "      <td>9 years</td>\n",
              "      <td>RENT</td>\n",
              "      <td>48700.0</td>\n",
              "      <td>...</td>\n",
              "      <td>N</td>\n",
              "      <td>0</td>\n",
              "      <td>2015</td>\n",
              "      <td>6</td>\n",
              "      <td>1996</td>\n",
              "      <td>6</td>\n",
              "      <td>2016</td>\n",
              "      <td>9</td>\n",
              "      <td>2017</td>\n",
              "      <td>C</td>\n",
              "    </tr>\n",
              "    <tr>\n",
              "      <th>4</th>\n",
              "      <td>59259</td>\n",
              "      <td>25000.0</td>\n",
              "      <td>25000.0</td>\n",
              "      <td>25000.0</td>\n",
              "      <td>36 months</td>\n",
              "      <td>14.99</td>\n",
              "      <td>866.52</td>\n",
              "      <td>1 year</td>\n",
              "      <td>MORTGAGE</td>\n",
              "      <td>85000.0</td>\n",
              "      <td>...</td>\n",
              "      <td>N</td>\n",
              "      <td>11</td>\n",
              "      <td>2016</td>\n",
              "      <td>0</td>\n",
              "      <td>2002</td>\n",
              "      <td>2</td>\n",
              "      <td>2019</td>\n",
              "      <td>2</td>\n",
              "      <td>2019</td>\n",
              "      <td>C</td>\n",
              "    </tr>\n",
              "  </tbody>\n",
              "</table>\n",
              "<p>5 rows × 92 columns</p>\n",
              "</div>\n",
              "    <div class=\"colab-df-buttons\">\n",
              "\n",
              "  <div class=\"colab-df-container\">\n",
              "    <button class=\"colab-df-convert\" onclick=\"convertToInteractive('df-46cdf42a-faca-4a9e-b450-8c25124e0859')\"\n",
              "            title=\"Convert this dataframe to an interactive table.\"\n",
              "            style=\"display:none;\">\n",
              "\n",
              "  <svg xmlns=\"http://www.w3.org/2000/svg\" height=\"24px\" viewBox=\"0 -960 960 960\">\n",
              "    <path d=\"M120-120v-720h720v720H120Zm60-500h600v-160H180v160Zm220 220h160v-160H400v160Zm0 220h160v-160H400v160ZM180-400h160v-160H180v160Zm440 0h160v-160H620v160ZM180-180h160v-160H180v160Zm440 0h160v-160H620v160Z\"/>\n",
              "  </svg>\n",
              "    </button>\n",
              "\n",
              "  <style>\n",
              "    .colab-df-container {\n",
              "      display:flex;\n",
              "      gap: 12px;\n",
              "    }\n",
              "\n",
              "    .colab-df-convert {\n",
              "      background-color: #E8F0FE;\n",
              "      border: none;\n",
              "      border-radius: 50%;\n",
              "      cursor: pointer;\n",
              "      display: none;\n",
              "      fill: #1967D2;\n",
              "      height: 32px;\n",
              "      padding: 0 0 0 0;\n",
              "      width: 32px;\n",
              "    }\n",
              "\n",
              "    .colab-df-convert:hover {\n",
              "      background-color: #E2EBFA;\n",
              "      box-shadow: 0px 1px 2px rgba(60, 64, 67, 0.3), 0px 1px 3px 1px rgba(60, 64, 67, 0.15);\n",
              "      fill: #174EA6;\n",
              "    }\n",
              "\n",
              "    .colab-df-buttons div {\n",
              "      margin-bottom: 4px;\n",
              "    }\n",
              "\n",
              "    [theme=dark] .colab-df-convert {\n",
              "      background-color: #3B4455;\n",
              "      fill: #D2E3FC;\n",
              "    }\n",
              "\n",
              "    [theme=dark] .colab-df-convert:hover {\n",
              "      background-color: #434B5C;\n",
              "      box-shadow: 0px 1px 3px 1px rgba(0, 0, 0, 0.15);\n",
              "      filter: drop-shadow(0px 1px 2px rgba(0, 0, 0, 0.3));\n",
              "      fill: #FFFFFF;\n",
              "    }\n",
              "  </style>\n",
              "\n",
              "    <script>\n",
              "      const buttonEl =\n",
              "        document.querySelector('#df-46cdf42a-faca-4a9e-b450-8c25124e0859 button.colab-df-convert');\n",
              "      buttonEl.style.display =\n",
              "        google.colab.kernel.accessAllowed ? 'block' : 'none';\n",
              "\n",
              "      async function convertToInteractive(key) {\n",
              "        const element = document.querySelector('#df-46cdf42a-faca-4a9e-b450-8c25124e0859');\n",
              "        const dataTable =\n",
              "          await google.colab.kernel.invokeFunction('convertToInteractive',\n",
              "                                                    [key], {});\n",
              "        if (!dataTable) return;\n",
              "\n",
              "        const docLinkHtml = 'Like what you see? Visit the ' +\n",
              "          '<a target=\"_blank\" href=https://colab.research.google.com/notebooks/data_table.ipynb>data table notebook</a>'\n",
              "          + ' to learn more about interactive tables.';\n",
              "        element.innerHTML = '';\n",
              "        dataTable['output_type'] = 'display_data';\n",
              "        await google.colab.output.renderOutput(dataTable, element);\n",
              "        const docLink = document.createElement('div');\n",
              "        docLink.innerHTML = docLinkHtml;\n",
              "        element.appendChild(docLink);\n",
              "      }\n",
              "    </script>\n",
              "  </div>\n",
              "\n",
              "\n",
              "<div id=\"df-42c31b1b-c1e2-4787-9357-dc5ba8885555\">\n",
              "  <button class=\"colab-df-quickchart\" onclick=\"quickchart('df-42c31b1b-c1e2-4787-9357-dc5ba8885555')\"\n",
              "            title=\"Suggest charts\"\n",
              "            style=\"display:none;\">\n",
              "\n",
              "<svg xmlns=\"http://www.w3.org/2000/svg\" height=\"24px\"viewBox=\"0 0 24 24\"\n",
              "     width=\"24px\">\n",
              "    <g>\n",
              "        <path d=\"M19 3H5c-1.1 0-2 .9-2 2v14c0 1.1.9 2 2 2h14c1.1 0 2-.9 2-2V5c0-1.1-.9-2-2-2zM9 17H7v-7h2v7zm4 0h-2V7h2v10zm4 0h-2v-4h2v4z\"/>\n",
              "    </g>\n",
              "</svg>\n",
              "  </button>\n",
              "\n",
              "<style>\n",
              "  .colab-df-quickchart {\n",
              "      --bg-color: #E8F0FE;\n",
              "      --fill-color: #1967D2;\n",
              "      --hover-bg-color: #E2EBFA;\n",
              "      --hover-fill-color: #174EA6;\n",
              "      --disabled-fill-color: #AAA;\n",
              "      --disabled-bg-color: #DDD;\n",
              "  }\n",
              "\n",
              "  [theme=dark] .colab-df-quickchart {\n",
              "      --bg-color: #3B4455;\n",
              "      --fill-color: #D2E3FC;\n",
              "      --hover-bg-color: #434B5C;\n",
              "      --hover-fill-color: #FFFFFF;\n",
              "      --disabled-bg-color: #3B4455;\n",
              "      --disabled-fill-color: #666;\n",
              "  }\n",
              "\n",
              "  .colab-df-quickchart {\n",
              "    background-color: var(--bg-color);\n",
              "    border: none;\n",
              "    border-radius: 50%;\n",
              "    cursor: pointer;\n",
              "    display: none;\n",
              "    fill: var(--fill-color);\n",
              "    height: 32px;\n",
              "    padding: 0;\n",
              "    width: 32px;\n",
              "  }\n",
              "\n",
              "  .colab-df-quickchart:hover {\n",
              "    background-color: var(--hover-bg-color);\n",
              "    box-shadow: 0 1px 2px rgba(60, 64, 67, 0.3), 0 1px 3px 1px rgba(60, 64, 67, 0.15);\n",
              "    fill: var(--button-hover-fill-color);\n",
              "  }\n",
              "\n",
              "  .colab-df-quickchart-complete:disabled,\n",
              "  .colab-df-quickchart-complete:disabled:hover {\n",
              "    background-color: var(--disabled-bg-color);\n",
              "    fill: var(--disabled-fill-color);\n",
              "    box-shadow: none;\n",
              "  }\n",
              "\n",
              "  .colab-df-spinner {\n",
              "    border: 2px solid var(--fill-color);\n",
              "    border-color: transparent;\n",
              "    border-bottom-color: var(--fill-color);\n",
              "    animation:\n",
              "      spin 1s steps(1) infinite;\n",
              "  }\n",
              "\n",
              "  @keyframes spin {\n",
              "    0% {\n",
              "      border-color: transparent;\n",
              "      border-bottom-color: var(--fill-color);\n",
              "      border-left-color: var(--fill-color);\n",
              "    }\n",
              "    20% {\n",
              "      border-color: transparent;\n",
              "      border-left-color: var(--fill-color);\n",
              "      border-top-color: var(--fill-color);\n",
              "    }\n",
              "    30% {\n",
              "      border-color: transparent;\n",
              "      border-left-color: var(--fill-color);\n",
              "      border-top-color: var(--fill-color);\n",
              "      border-right-color: var(--fill-color);\n",
              "    }\n",
              "    40% {\n",
              "      border-color: transparent;\n",
              "      border-right-color: var(--fill-color);\n",
              "      border-top-color: var(--fill-color);\n",
              "    }\n",
              "    60% {\n",
              "      border-color: transparent;\n",
              "      border-right-color: var(--fill-color);\n",
              "    }\n",
              "    80% {\n",
              "      border-color: transparent;\n",
              "      border-right-color: var(--fill-color);\n",
              "      border-bottom-color: var(--fill-color);\n",
              "    }\n",
              "    90% {\n",
              "      border-color: transparent;\n",
              "      border-bottom-color: var(--fill-color);\n",
              "    }\n",
              "  }\n",
              "</style>\n",
              "\n",
              "  <script>\n",
              "    async function quickchart(key) {\n",
              "      const quickchartButtonEl =\n",
              "        document.querySelector('#' + key + ' button');\n",
              "      quickchartButtonEl.disabled = true;  // To prevent multiple clicks.\n",
              "      quickchartButtonEl.classList.add('colab-df-spinner');\n",
              "      try {\n",
              "        const charts = await google.colab.kernel.invokeFunction(\n",
              "            'suggestCharts', [key], {});\n",
              "      } catch (error) {\n",
              "        console.error('Error during call to suggestCharts:', error);\n",
              "      }\n",
              "      quickchartButtonEl.classList.remove('colab-df-spinner');\n",
              "      quickchartButtonEl.classList.add('colab-df-quickchart-complete');\n",
              "    }\n",
              "    (() => {\n",
              "      let quickchartButtonEl =\n",
              "        document.querySelector('#df-42c31b1b-c1e2-4787-9357-dc5ba8885555 button');\n",
              "      quickchartButtonEl.style.display =\n",
              "        google.colab.kernel.accessAllowed ? 'block' : 'none';\n",
              "    })();\n",
              "  </script>\n",
              "</div>\n",
              "\n",
              "    </div>\n",
              "  </div>\n"
            ],
            "application/vnd.google.colaboratory.intrinsic+json": {
              "type": "dataframe",
              "variable_name": "data"
            }
          },
          "metadata": {},
          "execution_count": 51
        }
      ]
    },
    {
      "cell_type": "markdown",
      "source": [
        "There is not any missing value in the dataset."
      ],
      "metadata": {
        "id": "4LZ98LmHYrRY"
      }
    },
    {
      "cell_type": "markdown",
      "source": [
        "## Decision Tree\n",
        "in this section I used decision tree method. inorder to find the best model I have used Grid search and consider a variety of parameters, 72. Finally I used Cross-Validation. with the precentage of 20."
      ],
      "metadata": {
        "id": "aEICX3zpu_En"
      }
    },
    {
      "cell_type": "markdown",
      "source": [
        "####  Basic Preprocessing\n",
        "\n"
      ],
      "metadata": {
        "id": "yrod_1bMe2BH"
      }
    },
    {
      "cell_type": "code",
      "source": [
        "from re import X\n",
        "le = LabelEncoder()\n",
        "encoder = OneHotEncoder()\n",
        "#  for the features below we can use Label encoder, they seem ordinal\n",
        "columns_to_transform = [\n",
        "    'term', 'emp_length', 'verification_status', 'loan_status',\n",
        "    'purpose', 'initial_list_status', 'application_type',\n",
        "    'disbursement_method', 'debt_settlement_flag','home_ownership','addr_state'\n",
        "]\n",
        "\n",
        "for column in columns_to_transform:\n",
        "    X_train[column] = le.fit_transform(X_train[column])\n",
        "    X_test[column] = le.fit_transform(X_test[column])\n",
        "\n",
        "# We can drop the columns 'pymnt_plan' and 'addr_state' beacuse they do not have any useful information\n",
        "X_train = X_train.drop('pymnt_plan', axis=1)\n",
        "X_train = X_train.drop('hardship_flag', axis=1)\n",
        "\n",
        "X_test = X_test.drop('pymnt_plan', axis=1)\n",
        "X_test = X_test.drop('hardship_flag', axis=1)\n"
      ],
      "metadata": {
        "id": "tNGa8oB6kRi9",
        "colab": {
          "base_uri": "https://localhost:8080/",
          "height": 211
        },
        "outputId": "abf9eb34-3c72-4c76-e614-5b2171404883"
      },
      "execution_count": 153,
      "outputs": [
        {
          "output_type": "error",
          "ename": "IndexError",
          "evalue": "only integers, slices (`:`), ellipsis (`...`), numpy.newaxis (`None`) and integer or boolean arrays are valid indices",
          "traceback": [
            "\u001b[0;31m---------------------------------------------------------------------------\u001b[0m",
            "\u001b[0;31mIndexError\u001b[0m                                Traceback (most recent call last)",
            "\u001b[0;32m<ipython-input-153-b617c6ccb784>\u001b[0m in \u001b[0;36m<cell line: 0>\u001b[0;34m()\u001b[0m\n\u001b[1;32m     10\u001b[0m \u001b[0;34m\u001b[0m\u001b[0m\n\u001b[1;32m     11\u001b[0m \u001b[0;32mfor\u001b[0m \u001b[0mcolumn\u001b[0m \u001b[0;32min\u001b[0m \u001b[0mcolumns_to_transform\u001b[0m\u001b[0;34m:\u001b[0m\u001b[0;34m\u001b[0m\u001b[0;34m\u001b[0m\u001b[0m\n\u001b[0;32m---> 12\u001b[0;31m     \u001b[0mX_train\u001b[0m\u001b[0;34m[\u001b[0m\u001b[0mcolumn\u001b[0m\u001b[0;34m]\u001b[0m \u001b[0;34m=\u001b[0m \u001b[0mle\u001b[0m\u001b[0;34m.\u001b[0m\u001b[0mfit_transform\u001b[0m\u001b[0;34m(\u001b[0m\u001b[0mX_train\u001b[0m\u001b[0;34m[\u001b[0m\u001b[0mcolumn\u001b[0m\u001b[0;34m]\u001b[0m\u001b[0;34m)\u001b[0m\u001b[0;34m\u001b[0m\u001b[0;34m\u001b[0m\u001b[0m\n\u001b[0m\u001b[1;32m     13\u001b[0m     \u001b[0mX_test\u001b[0m\u001b[0;34m[\u001b[0m\u001b[0mcolumn\u001b[0m\u001b[0;34m]\u001b[0m \u001b[0;34m=\u001b[0m \u001b[0mle\u001b[0m\u001b[0;34m.\u001b[0m\u001b[0mfit_transform\u001b[0m\u001b[0;34m(\u001b[0m\u001b[0mX_test\u001b[0m\u001b[0;34m[\u001b[0m\u001b[0mcolumn\u001b[0m\u001b[0;34m]\u001b[0m\u001b[0;34m)\u001b[0m\u001b[0;34m\u001b[0m\u001b[0;34m\u001b[0m\u001b[0m\n\u001b[1;32m     14\u001b[0m \u001b[0;34m\u001b[0m\u001b[0m\n",
            "\u001b[0;31mIndexError\u001b[0m: only integers, slices (`:`), ellipsis (`...`), numpy.newaxis (`None`) and integer or boolean arrays are valid indices"
          ]
        }
      ]
    },
    {
      "cell_type": "markdown",
      "source": [
        "#### Model With Cross-Validation"
      ],
      "metadata": {
        "id": "18kU8NIsvUB6"
      }
    },
    {
      "cell_type": "code",
      "source": [
        "from sklearn.tree import DecisionTreeClassifier\n",
        "from sklearn.model_selection import GridSearchCV\n",
        "from sklearn.metrics import accuracy_score\n",
        "dt = DecisionTreeClassifier(random_state=42)\n",
        "\n",
        "# Define parameter grid\n",
        "param_grid = {\n",
        "    'max_depth': [3, 5, 7, None],\n",
        "    'min_samples_split': [2, 5, 10],\n",
        "    'min_samples_leaf': [1, 2, 4],\n",
        "    'criterion': ['gini', 'entropy']\n",
        "}\n",
        "\n",
        "# Set up GridSearchCV\n",
        "grid_search = GridSearchCV(\n",
        "    estimator=dt,\n",
        "    param_grid=param_grid,\n",
        "    cv=5,\n",
        "    scoring='accuracy',\n",
        "    n_jobs=-1,\n",
        "    verbose=1\n",
        ")\n",
        "\n",
        "# Fit GridSearchCV\n",
        "grid_search.fit(X_train, y_train)"
      ],
      "metadata": {
        "id": "cicWYbqTEC9w"
      },
      "execution_count": null,
      "outputs": []
    },
    {
      "cell_type": "code",
      "source": [
        "results = pd.DataFrame(grid_search.cv_results_)\n",
        "results_df = results[['param_max_depth', 'param_min_samples_split', 'param_min_samples_leaf',\n",
        "                      'param_criterion', 'mean_test_score', 'std_test_score', 'rank_test_score']]\n",
        "results_df = results_df.sort_values(by='mean_test_score', ascending=False)\n",
        "\n",
        "print(\"Top 5 parameter combinations by mean test score:\")\n",
        "print(results_df.head())"
      ],
      "metadata": {
        "id": "I3OT5TQ3OJR8"
      },
      "execution_count": null,
      "outputs": []
    },
    {
      "cell_type": "markdown",
      "source": [
        "In the cell below, there is the results of a veriety of parameteres setting."
      ],
      "metadata": {
        "id": "cb5DFp7gFhyW"
      }
    },
    {
      "cell_type": "code",
      "source": [
        "results"
      ],
      "metadata": {
        "id": "UNYaYcGYFP-V"
      },
      "execution_count": null,
      "outputs": []
    },
    {
      "cell_type": "code",
      "source": [
        "best_model = grid_search.best_estimator_\n",
        "y_pred = best_model.predict(X_test)\n",
        "accuracy = accuracy_score(y_test, y_pred)\n",
        "print(\"Best Model Accuracy:\", accuracy)"
      ],
      "metadata": {
        "id": "Wy4DzK7lLThn"
      },
      "execution_count": null,
      "outputs": []
    },
    {
      "cell_type": "code",
      "source": [
        "precision = precision_score(y_test, y_pred, average='weighted')\n",
        "# Recall\n",
        "recall = recall_score(y_test, y_pred, average='weighted')\n",
        "# F1 Score\n",
        "f1 = f1_score(y_test, y_pred, average='weighted')\n",
        "print(\"Precision:\", precision)\n",
        "print(\"Recall:\", recall)\n",
        "print(\"F1 Score:\", f1)"
      ],
      "metadata": {
        "id": "c16i6X1pYPs4"
      },
      "execution_count": null,
      "outputs": []
    },
    {
      "cell_type": "code",
      "source": [
        "plt.figure(figsize=(10, 10))\n",
        "cm=confusion_matrix(y_test, y_pred)\n",
        "sns.heatmap(cm, annot=True)\n",
        "plt.show()"
      ],
      "metadata": {
        "id": "XaK2gDewbk6E"
      },
      "execution_count": null,
      "outputs": []
    },
    {
      "cell_type": "markdown",
      "source": [
        "#### Another Parameter Settings 1"
      ],
      "metadata": {
        "id": "0rD37JxTBslt"
      }
    },
    {
      "cell_type": "code",
      "source": [
        "# using a model with {'criterion': 'gini', 'max_depth': 3} the information of this exist above in results data frame\n",
        "# it has the lowest accuracy\n",
        "chosen_params = results.loc[1, 'params']\n",
        "chosen_params\n"
      ],
      "metadata": {
        "id": "sbfiU-kwBr1u"
      },
      "execution_count": null,
      "outputs": []
    },
    {
      "cell_type": "code",
      "source": [
        "model = DecisionTreeClassifier(**chosen_params)\n",
        "model.fit(X_train, y_train)\n",
        "y_pred = model.predict(X_test)\n",
        "accuracy = accuracy_score(y_test, y_pred)\n",
        "print(\"Best Model Accuracy:\", accuracy)\n",
        "precision = precision_score(y_test, y_pred, average='weighted')\n",
        "# Recall\n",
        "recall = recall_score(y_test, y_pred, average='weighted')\n",
        "# F1 Score\n",
        "f1 = f1_score(y_test, y_pred, average='weighted')\n",
        "print(\"Precision:\", precision)\n",
        "print(\"Recall:\", recall)\n",
        "print(\"F1 Score:\", f1)"
      ],
      "metadata": {
        "id": "LP51lCQWGi8u"
      },
      "execution_count": null,
      "outputs": []
    },
    {
      "cell_type": "code",
      "source": [
        "plt.figure(figsize=(10, 10))\n",
        "cm=confusion_matrix(y_test, y_pred)\n",
        "sns.heatmap(cm, annot=True)\n",
        "plt.show()"
      ],
      "metadata": {
        "id": "U0bWWqvxBry7"
      },
      "execution_count": null,
      "outputs": []
    },
    {
      "cell_type": "markdown",
      "source": [
        "#### Another Parameter setting 2"
      ],
      "metadata": {
        "id": "SKEEhguvHINf"
      }
    },
    {
      "cell_type": "code",
      "source": [
        "# using a model with {'criterion': 'entropy', 'max_depth': 5} the information of this exist above in results data frame\n",
        "chosen_params = results.loc[53, 'params']\n",
        "chosen_params"
      ],
      "metadata": {
        "id": "RKankBBmBrwZ"
      },
      "execution_count": null,
      "outputs": []
    },
    {
      "cell_type": "code",
      "source": [
        "model = DecisionTreeClassifier(**chosen_params)\n",
        "model.fit(X_train, y_train)\n",
        "y_pred = model.predict(X_test)\n",
        "accuracy = accuracy_score(y_test, y_pred)\n",
        "print(\"Best Model Accuracy:\", accuracy)\n",
        "precision = precision_score(y_test, y_pred, average='weighted')\n",
        "# Recall\n",
        "recall = recall_score(y_test, y_pred, average='weighted')\n",
        "# F1 Score\n",
        "f1 = f1_score(y_test, y_pred, average='weighted')\n",
        "print(\"Precision:\", precision)\n",
        "print(\"Recall:\", recall)\n",
        "print(\"F1 Score:\", f1)"
      ],
      "metadata": {
        "id": "LXmokkIaBrte"
      },
      "execution_count": null,
      "outputs": []
    },
    {
      "cell_type": "code",
      "source": [
        "plt.figure(figsize=(10, 10))\n",
        "cm=confusion_matrix(y_test, y_pred)\n",
        "sns.heatmap(cm, annot=True)\n",
        "plt.show()"
      ],
      "metadata": {
        "id": "nhNq_ha0Brq_"
      },
      "execution_count": null,
      "outputs": []
    },
    {
      "cell_type": "markdown",
      "source": [
        "#### Model with Holdout"
      ],
      "metadata": {
        "id": "Hwqr4C5jIWbG"
      }
    },
    {
      "cell_type": "code",
      "source": [
        "from sklearn.model_selection import PredefinedSplit\n",
        "param_grid = {\n",
        "    'max_depth': [3, 5, 7, None],\n",
        "    'min_samples_split': [2, 5, 10],\n",
        "    'min_samples_leaf': [1, 2, 4],\n",
        "    'criterion': ['gini', 'entropy']\n",
        "}\n",
        "\n",
        "test_fold = [-1] * int(len(X_train) * 0.8) + [0] * int(len(X_train) * 0.2)\n",
        "ps = PredefinedSplit(test_fold)\n",
        "# Set up GridSearchCV\n",
        "grid_search = GridSearchCV(\n",
        "    estimator=dt,\n",
        "    param_grid=param_grid,\n",
        "    cv=ps,\n",
        "    scoring='accuracy',\n",
        "    n_jobs=-1,\n",
        "    verbose=1\n",
        ")\n",
        "\n",
        "# Fit GridSearchCV\n",
        "grid_search.fit(X_train, y_train)"
      ],
      "metadata": {
        "id": "K1EVl-JABrbO"
      },
      "execution_count": null,
      "outputs": []
    },
    {
      "cell_type": "code",
      "source": [
        "results = pd.DataFrame(grid_search.cv_results_)\n",
        "results_df = results[['param_max_depth', 'param_min_samples_split', 'param_min_samples_leaf',\n",
        "                      'param_criterion', 'mean_test_score', 'std_test_score', 'rank_test_score']]\n",
        "results_df = results_df.sort_values(by='mean_test_score', ascending=False)\n",
        "\n",
        "print(\"Top 5 parameter combinations by mean test score:\")\n",
        "print(results_df.head())"
      ],
      "metadata": {
        "id": "3woyRb2kRnRl"
      },
      "execution_count": null,
      "outputs": []
    },
    {
      "cell_type": "code",
      "source": [
        "results"
      ],
      "metadata": {
        "id": "PgnohcwKRrpU"
      },
      "execution_count": null,
      "outputs": []
    },
    {
      "cell_type": "code",
      "source": [
        "best_model = grid_search.best_estimator_\n",
        "y_pred = best_model.predict(X_test)\n",
        "accuracy = accuracy_score(y_test, y_pred)\n",
        "print(\"Best Model Accuracy:\", accuracy)"
      ],
      "metadata": {
        "id": "Hx71ZOWuRxKv"
      },
      "execution_count": null,
      "outputs": []
    },
    {
      "cell_type": "code",
      "source": [
        "precision = precision_score(y_test, y_pred, average='weighted')\n",
        "# Recall\n",
        "recall = recall_score(y_test, y_pred, average='weighted')\n",
        "# F1 Score\n",
        "f1 = f1_score(y_test, y_pred, average='weighted')\n",
        "print(\"Precision:\", precision)\n",
        "print(\"Recall:\", recall)\n",
        "print(\"F1 Score:\", f1)"
      ],
      "metadata": {
        "id": "ronaxMMvR6Yb"
      },
      "execution_count": null,
      "outputs": []
    },
    {
      "cell_type": "code",
      "source": [
        "plt.figure(figsize=(10, 10))\n",
        "cm=confusion_matrix(y_test, y_pred)\n",
        "sns.heatmap(cm, annot=True)\n",
        "plt.show()"
      ],
      "metadata": {
        "id": "ZMS7imVrR6V2"
      },
      "execution_count": null,
      "outputs": []
    },
    {
      "cell_type": "markdown",
      "source": [
        "#### Another Parameters Setting 1"
      ],
      "metadata": {
        "id": "85s7QOzqSAvY"
      }
    },
    {
      "cell_type": "code",
      "source": [
        "# using a model with {'criterion': 'gini', 'max_depth': 3} the information of this exist above in results data frame\n",
        "chosen_params = results.loc[1, 'params']\n",
        "chosen_params"
      ],
      "metadata": {
        "id": "yDr09b-9R6TH"
      },
      "execution_count": null,
      "outputs": []
    },
    {
      "cell_type": "code",
      "source": [
        "model = DecisionTreeClassifier(**chosen_params)\n",
        "model.fit(X_train, y_train)\n",
        "y_pred = model.predict(X_test)\n",
        "accuracy = accuracy_score(y_test, y_pred)\n",
        "print(\"Best Model Accuracy:\", accuracy)\n",
        "precision = precision_score(y_test, y_pred, average='weighted')\n",
        "# Recall\n",
        "recall = recall_score(y_test, y_pred, average='weighted')\n",
        "# F1 Score\n",
        "f1 = f1_score(y_test, y_pred, average='weighted')\n",
        "print(\"Precision:\", precision)\n",
        "print(\"Recall:\", recall)\n",
        "print(\"F1 Score:\", f1)"
      ],
      "metadata": {
        "id": "nxU1JBqLR6QO"
      },
      "execution_count": null,
      "outputs": []
    },
    {
      "cell_type": "code",
      "source": [
        "plt.figure(figsize=(10, 10))\n",
        "cm=confusion_matrix(y_test, y_pred)\n",
        "sns.heatmap(cm, annot=True)\n",
        "plt.show()"
      ],
      "metadata": {
        "id": "2Rd5xbEwR6NV"
      },
      "execution_count": null,
      "outputs": []
    },
    {
      "cell_type": "markdown",
      "source": [
        "#### Another Parameter Setting 2"
      ],
      "metadata": {
        "id": "CFc9siOUS9Jg"
      }
    },
    {
      "cell_type": "code",
      "source": [
        "# using a model with {'criterion': 'entropy', 'max_depth': 5} the information of this exist above in results data frame\n",
        "chosen_params = results.loc[53, 'params']\n",
        "chosen_params"
      ],
      "metadata": {
        "id": "UiMLyDJQR6Kl"
      },
      "execution_count": null,
      "outputs": []
    },
    {
      "cell_type": "code",
      "source": [
        "model = DecisionTreeClassifier(**chosen_params)\n",
        "model.fit(X_train, y_train)\n",
        "y_pred = model.predict(X_test)\n",
        "accuracy = accuracy_score(y_test, y_pred)\n",
        "print(\"Best Model Accuracy:\", accuracy)\n",
        "precision = precision_score(y_test, y_pred, average='weighted')\n",
        "# Recall\n",
        "recall = recall_score(y_test, y_pred, average='weighted')\n",
        "# F1 Score\n",
        "f1 = f1_score(y_test, y_pred, average='weighted')\n",
        "print(\"Precision:\", precision)\n",
        "print(\"Recall:\", recall)\n",
        "print(\"F1 Score:\", f1)"
      ],
      "metadata": {
        "id": "t2whAwLrR6Hg"
      },
      "execution_count": null,
      "outputs": []
    },
    {
      "cell_type": "code",
      "source": [
        "plt.figure(figsize=(10, 10))\n",
        "cm=confusion_matrix(y_test, y_pred)\n",
        "sns.heatmap(cm, annot=True)\n",
        "plt.show()"
      ],
      "metadata": {
        "id": "kUjiEmTSR6Ek"
      },
      "execution_count": null,
      "outputs": []
    },
    {
      "cell_type": "markdown",
      "source": [
        "## Neural Network"
      ],
      "metadata": {
        "id": "e07khzXNvX6B"
      }
    },
    {
      "cell_type": "markdown",
      "source": [
        "##### Basic Preprocessing"
      ],
      "metadata": {
        "id": "nEyQJs9wvflg"
      }
    },
    {
      "cell_type": "code",
      "source": [
        "from re import X\n",
        "from sklearn.preprocessing import StandardScaler\n",
        "\n",
        "\n",
        "le = LabelEncoder()\n",
        "encoder = OneHotEncoder(handle_unknown='ignore')\n",
        "#  for the features below we can use Label encoder, they seem ordinal\n",
        "columns_to_transform = [\n",
        "    'term', 'emp_length', 'verification_status', 'loan_status',\n",
        "    'purpose', 'initial_list_status', 'application_type',\n",
        "    'disbursement_method', 'debt_settlement_flag' ,'addr_state'\n",
        "]\n",
        "\n",
        "for column in columns_to_transform:\n",
        "    X_train[column] = le.fit_transform(X_train[column])\n",
        "    X_test[column] = le.transform(X_test[column])\n",
        "\n",
        "\n",
        "y_train[\"grade\"] = le.fit_transform(y_train[\"grade\"])\n",
        "y_test[\"grade\"] = le.fit_transform(y_test[\"grade\"])\n",
        "\n",
        "# We can drop the columns 'pymnt_plan' and 'addr_state' beacuse they do not have any useful information\n",
        "X_train = X_train.drop('pymnt_plan', axis=1)\n",
        "X_train = X_train.drop('hardship_flag', axis=1)\n",
        "\n",
        "X_test = X_test.drop('pymnt_plan', axis=1)\n",
        "X_test = X_test.drop('hardship_flag', axis=1)\n",
        "\n",
        "X_train = X_train.reset_index(drop=True)\n",
        "X_test = X_test.reset_index(drop=True)\n",
        "\n",
        "encoded = encoder.fit_transform(X_train[['home_ownership']])\n",
        "encoded_df = pd.DataFrame(encoded.toarray(), columns=encoder.get_feature_names_out(['home_ownership']))\n",
        "X_train = pd.concat([X_train, encoded_df], axis=1)\n",
        "X_train = X_train.drop('home_ownership', axis=1)\n",
        "\n",
        "\n",
        "encoded = encoder.transform(X_test[['home_ownership']])\n",
        "encoded_df = pd.DataFrame(encoded.toarray(), columns=encoder.get_feature_names_out(['home_ownership']))\n",
        "X_test = pd.concat([X_test, encoded_df], axis=1)\n",
        "X_test = X_test.drop('home_ownership', axis=1)\n",
        "\n",
        "Features = X_train.columns\n",
        "Features_not_scaled = ['term', 'emp_length', 'verification_status', 'loan_status',\n",
        "    'purpose', 'initial_list_status', 'application_type',\n",
        "    'disbursement_method', 'debt_settlement_flag' ,'addr_state' ,\"home_ownership_ANY\" ,\n",
        "    \"home_ownership_MORTGAGE\" ,\t\"home_ownership_OTHER\" ,\t\"home_ownership_OWN\" ,  \t\"home_ownership_RENT\" ]\n",
        "\n",
        "Features_scaled = [x for x in Features if x not in Features_not_scaled]\n",
        "scaler = StandardScaler()\n",
        "X_train[Features_scaled] = scaler.fit_transform(X_train[Features_scaled])\n",
        "X_test[Features_scaled] = scaler.transform(X_test[Features_scaled])\n",
        "\n"
      ],
      "metadata": {
        "id": "Py9klrI7vcyq"
      },
      "execution_count": 220,
      "outputs": []
    },
    {
      "cell_type": "code",
      "source": [
        "from sklearn.decomposition import PCA\n",
        "number_of_components = 60\n",
        "pca = PCA(n_components=number_of_components)\n",
        "X_train = pca.fit_transform(X_train)\n",
        "X_test = pca.transform(X_test)"
      ],
      "metadata": {
        "id": "qSHY4VFVAqWH"
      },
      "execution_count": 221,
      "outputs": []
    },
    {
      "cell_type": "markdown",
      "source": [
        "In this section I used a Neural Network to predict the grade. I used Keras Tuner to test it on a variety of hyperparameteres.\n",
        "\n"
      ],
      "metadata": {
        "id": "yPA6kMbZ4Dtb"
      }
    },
    {
      "cell_type": "markdown",
      "source": [
        "#### Using Cross Validation"
      ],
      "metadata": {
        "id": "-48ADM5aChmM"
      }
    },
    {
      "cell_type": "code",
      "source": [
        "import numpy as np\n",
        "from sklearn.model_selection import GridSearchCV\n",
        "from tensorflow import keras\n",
        "from sklearn.neural_network import MLPClassifier\n",
        "\n",
        "\n",
        "mlp = MLPClassifier(max_iter=1000, early_stopping=True, random_state=42)\n",
        "\n",
        "param_grid = {\n",
        "    'hidden_layer_sizes': [(16,16), (16,32), (16, 32 , 64), (16 , 32 , 32)],\n",
        "    'activation': ['relu'],\n",
        "    'solver': ['adam'],\n",
        "    'learning_rate_init': [0.001, 0.01],\n",
        "}\n",
        "\n",
        "grid = GridSearchCV(\n",
        "    mlp,\n",
        "    param_grid,\n",
        "    cv=5,\n",
        "    scoring='accuracy',\n",
        "    n_jobs=-1,\n",
        "    verbose=1\n",
        ")\n",
        "\n",
        "grid.fit(X_train, y_train)\n",
        "best_model = grid.best_estimator_\n",
        "y_pred = best_model.predict(X_test)\n",
        "accuracy = accuracy_score(y_test, y_pred)\n",
        "print(\"Best Model Accuracy:\", accuracy)\n"
      ],
      "metadata": {
        "colab": {
          "base_uri": "https://localhost:8080/"
        },
        "id": "miFFEWWPfk8n",
        "outputId": "dadbf425-bc06-4993-9c90-caedb86a1b7a"
      },
      "execution_count": 190,
      "outputs": [
        {
          "output_type": "stream",
          "name": "stdout",
          "text": [
            "Fitting 5 folds for each of 8 candidates, totalling 40 fits\n"
          ]
        },
        {
          "output_type": "stream",
          "name": "stderr",
          "text": [
            "/usr/local/lib/python3.11/dist-packages/sklearn/neural_network/_multilayer_perceptron.py:1124: DataConversionWarning: A column-vector y was passed when a 1d array was expected. Please change the shape of y to (n_samples, ), for example using ravel().\n",
            "  y = column_or_1d(y, warn=True)\n"
          ]
        },
        {
          "output_type": "stream",
          "name": "stdout",
          "text": [
            "Best Model Accuracy: 0.891\n"
          ]
        }
      ]
    },
    {
      "cell_type": "code",
      "source": [
        "print(grid.best_params_)"
      ],
      "metadata": {
        "colab": {
          "base_uri": "https://localhost:8080/"
        },
        "id": "CWQbtTRh6guv",
        "outputId": "955edb39-958e-49cd-8232-8f0e79ab2a35"
      },
      "execution_count": 191,
      "outputs": [
        {
          "output_type": "stream",
          "name": "stdout",
          "text": [
            "{'activation': 'relu', 'hidden_layer_sizes': (16, 32), 'learning_rate_init': 0.01, 'solver': 'adam'}\n"
          ]
        }
      ]
    },
    {
      "cell_type": "code",
      "source": [
        "precision = precision_score(y_test, y_pred, average='weighted')\n",
        "# Recall\n",
        "recall = recall_score(y_test, y_pred, average='weighted')\n",
        "# F1 Score\n",
        "f1 = f1_score(y_test, y_pred, average='weighted')\n",
        "print(\"Precision:\", precision)\n",
        "print(\"Recall:\", recall)\n",
        "print(\"F1 Score:\", f1)"
      ],
      "metadata": {
        "colab": {
          "base_uri": "https://localhost:8080/"
        },
        "id": "hptdNjsO658j",
        "outputId": "783b4acf-b440-48ca-8755-91afdc85b480"
      },
      "execution_count": 192,
      "outputs": [
        {
          "output_type": "stream",
          "name": "stdout",
          "text": [
            "Precision: 0.8866906707482533\n",
            "Recall: 0.891\n",
            "F1 Score: 0.8875905814166264\n"
          ]
        }
      ]
    },
    {
      "cell_type": "code",
      "source": [
        "plt.figure(figsize=(10, 10))\n",
        "cm=confusion_matrix(y_test, y_pred)\n",
        "sns.heatmap(cm, annot=True)\n",
        "plt.show()"
      ],
      "metadata": {
        "colab": {
          "base_uri": "https://localhost:8080/",
          "height": 830
        },
        "id": "fJuh6ZvKfk4h",
        "outputId": "1ec9eb0c-22ee-4f43-8660-d01ff91d3490"
      },
      "execution_count": 193,
      "outputs": [
        {
          "output_type": "display_data",
          "data": {
            "text/plain": [
              "<Figure size 1000x1000 with 2 Axes>"
            ],
            "image/png": "[encoded data removed]"
          },
          "metadata": {}
        }
      ]
    },
    {
      "cell_type": "code",
      "source": [
        "print(results.head())"
      ],
      "metadata": {
        "colab": {
          "base_uri": "https://localhost:8080/"
        },
        "id": "fWv18FeR8Pa8",
        "outputId": "62d72a0b-c7a1-42a6-c693-b9cf3913fc19"
      },
      "execution_count": 201,
      "outputs": [
        {
          "output_type": "stream",
          "name": "stdout",
          "text": [
            "   mean_fit_time  std_fit_time  mean_score_time  std_score_time  \\\n",
            "0       2.985582      0.287254         0.009019        0.003099   \n",
            "1       2.096229      0.696078         0.010011        0.003600   \n",
            "2       2.786564      0.339143         0.007590        0.000256   \n",
            "3       1.623941      0.293374         0.007420        0.000533   \n",
            "4       8.118582      2.948401         0.025720        0.005282   \n",
            "\n",
            "  param_activation param_hidden_layer_sizes  param_learning_rate_init  \\\n",
            "0             relu                 (16, 16)                     0.001   \n",
            "1             relu                 (16, 16)                     0.010   \n",
            "2             relu                 (16, 32)                     0.001   \n",
            "3             relu                 (16, 32)                     0.010   \n",
            "4             relu             (16, 32, 64)                     0.001   \n",
            "\n",
            "  param_solver                                             params  \\\n",
            "0         adam  {'activation': 'relu', 'hidden_layer_sizes': (...   \n",
            "1         adam  {'activation': 'relu', 'hidden_layer_sizes': (...   \n",
            "2         adam  {'activation': 'relu', 'hidden_layer_sizes': (...   \n",
            "3         adam  {'activation': 'relu', 'hidden_layer_sizes': (...   \n",
            "4         adam  {'activation': 'relu', 'hidden_layer_sizes': (...   \n",
            "\n",
            "   split0_test_score  split1_test_score  split2_test_score  split3_test_score  \\\n",
            "0           0.862778           0.851111           0.859444           0.863333   \n",
            "1           0.886111           0.866111           0.885000           0.876111   \n",
            "2           0.862778           0.847778           0.840000           0.855000   \n",
            "3           0.893333           0.867778           0.874444           0.879444   \n",
            "4           0.820000           0.877778           0.875556           0.871111   \n",
            "\n",
            "   split4_test_score  mean_test_score  std_test_score  rank_test_score  \n",
            "0           0.857222         0.858778        0.004436                7  \n",
            "1           0.884444         0.879556        0.007604                2  \n",
            "2           0.861667         0.853444        0.008602                8  \n",
            "3           0.890556         0.881111        0.009629                1  \n",
            "4           0.867222         0.862333        0.021478                6  \n"
          ]
        }
      ]
    },
    {
      "cell_type": "code",
      "source": [
        "results = pd.DataFrame(grid.cv_results_)\n",
        "results_df = results[['param_activation', 'param_hidden_layer_sizes', 'param_learning_rate_init',\n",
        "                      'param_solver']]\n",
        "print(results_df.head())"
      ],
      "metadata": {
        "colab": {
          "base_uri": "https://localhost:8080/"
        },
        "id": "QQ7GU-rT7sOQ",
        "outputId": "61653f63-6631-4025-dc32-b10c1f9501d1"
      },
      "execution_count": 203,
      "outputs": [
        {
          "output_type": "stream",
          "name": "stdout",
          "text": [
            "  param_activation param_hidden_layer_sizes  param_learning_rate_init  \\\n",
            "0             relu                 (16, 16)                     0.001   \n",
            "1             relu                 (16, 16)                     0.010   \n",
            "2             relu                 (16, 32)                     0.001   \n",
            "3             relu                 (16, 32)                     0.010   \n",
            "4             relu             (16, 32, 64)                     0.001   \n",
            "\n",
            "  param_solver  \n",
            "0         adam  \n",
            "1         adam  \n",
            "2         adam  \n",
            "3         adam  \n",
            "4         adam  \n"
          ]
        }
      ]
    },
    {
      "cell_type": "markdown",
      "source": [
        "#### Another Parameter Settings 1"
      ],
      "metadata": {
        "id": "xcmAxtuV7ETQ"
      }
    },
    {
      "cell_type": "code",
      "source": [
        "chosen_params = results.loc[5, 'params']\n",
        "chosen_params\n"
      ],
      "metadata": {
        "colab": {
          "base_uri": "https://localhost:8080/"
        },
        "id": "t5Qye6lYfk1-",
        "outputId": "6b2595aa-cb8d-467d-bdcb-8f6460109cf3"
      },
      "execution_count": 214,
      "outputs": [
        {
          "output_type": "execute_result",
          "data": {
            "text/plain": [
              "{'activation': 'relu',\n",
              " 'hidden_layer_sizes': (16, 32, 64),\n",
              " 'learning_rate_init': 0.01,\n",
              " 'solver': 'adam'}"
            ]
          },
          "metadata": {},
          "execution_count": 214
        }
      ]
    },
    {
      "cell_type": "code",
      "source": [
        "model = MLPClassifier(**chosen_params)\n",
        "model.fit(X_train, y_train)\n",
        "y_pred = model.predict(X_test)\n",
        "accuracy = accuracy_score(y_test, y_pred)\n",
        "print(\"Best Model Accuracy:\", accuracy)\n",
        "precision = precision_score(y_test, y_pred, average='weighted')\n",
        "# Recall\n",
        "recall = recall_score(y_test, y_pred, average='weighted')\n",
        "# F1 Score\n",
        "f1 = f1_score(y_test, y_pred, average='weighted')\n",
        "print(\"Precision:\", precision)\n",
        "print(\"Recall:\", recall)\n",
        "print(\"F1 Score:\", f1)"
      ],
      "metadata": {
        "colab": {
          "base_uri": "https://localhost:8080/"
        },
        "id": "fVy-IxOMfkzy",
        "outputId": "0f3dabc3-7337-47ad-879c-9e80d4647fe1"
      },
      "execution_count": 217,
      "outputs": [
        {
          "output_type": "stream",
          "name": "stderr",
          "text": [
            "/usr/local/lib/python3.11/dist-packages/sklearn/neural_network/_multilayer_perceptron.py:1124: DataConversionWarning: A column-vector y was passed when a 1d array was expected. Please change the shape of y to (n_samples, ), for example using ravel().\n",
            "  y = column_or_1d(y, warn=True)\n"
          ]
        },
        {
          "output_type": "stream",
          "name": "stdout",
          "text": [
            "Best Model Accuracy: 0.906\n",
            "Precision: 0.9048884026249193\n",
            "Recall: 0.906\n",
            "F1 Score: 0.9047136452451086\n"
          ]
        }
      ]
    },
    {
      "cell_type": "code",
      "source": [
        "plt.figure(figsize=(10, 10))\n",
        "cm=confusion_matrix(y_test, y_pred)\n",
        "sns.heatmap(cm, annot=True)\n",
        "plt.show()"
      ],
      "metadata": {
        "colab": {
          "base_uri": "https://localhost:8080/",
          "height": 830
        },
        "id": "2jfiqwzRfkxZ",
        "outputId": "a67d43b5-4c6c-4231-aab4-6db388d4af1d"
      },
      "execution_count": 218,
      "outputs": [
        {
          "output_type": "display_data",
          "data": {
            "text/plain": [
              "<Figure size 1000x1000 with 2 Axes>"
            ],
            "image/png": "[encoded data removed]"
          },
          "metadata": {}
        }
      ]
    },
    {
      "cell_type": "markdown",
      "source": [
        "##### Another Parameter settings 2"
      ],
      "metadata": {
        "id": "dvmtoEjH_6bD"
      }
    },
    {
      "cell_type": "code",
      "source": [
        "chosen_params = results.loc[7, 'params']\n",
        "chosen_params"
      ],
      "metadata": {
        "colab": {
          "base_uri": "https://localhost:8080/"
        },
        "id": "eYKltgnGfkvU",
        "outputId": "bf8becc7-ba87-43e0-90bb-d7dde9071775"
      },
      "execution_count": 211,
      "outputs": [
        {
          "output_type": "execute_result",
          "data": {
            "text/plain": [
              "{'activation': 'relu',\n",
              " 'hidden_layer_sizes': (16, 32, 32),\n",
              " 'learning_rate_init': 0.01,\n",
              " 'solver': 'adam'}"
            ]
          },
          "metadata": {},
          "execution_count": 211
        }
      ]
    },
    {
      "cell_type": "code",
      "source": [
        "model = MLPClassifier(**chosen_params)\n",
        "model.fit(X_train, y_train)\n",
        "y_pred = model.predict(X_test)\n",
        "accuracy = accuracy_score(y_test, y_pred)\n",
        "print(\"Best Model Accuracy:\", accuracy)\n",
        "precision = precision_score(y_test, y_pred, average='weighted')\n",
        "# Recall\n",
        "recall = recall_score(y_test, y_pred, average='weighted')\n",
        "# F1 Score\n",
        "f1 = f1_score(y_test, y_pred, average='weighted')\n",
        "print(\"Precision:\", precision)\n",
        "print(\"Recall:\", recall)\n",
        "print(\"F1 Score:\", f1)"
      ],
      "metadata": {
        "colab": {
          "base_uri": "https://localhost:8080/"
        },
        "id": "O83LwMNVfktA",
        "outputId": "1caeaef1-8f73-4d23-ab7a-7246ff64de6d"
      },
      "execution_count": 212,
      "outputs": [
        {
          "output_type": "stream",
          "name": "stderr",
          "text": [
            "/usr/local/lib/python3.11/dist-packages/sklearn/neural_network/_multilayer_perceptron.py:1124: DataConversionWarning: A column-vector y was passed when a 1d array was expected. Please change the shape of y to (n_samples, ), for example using ravel().\n",
            "  y = column_or_1d(y, warn=True)\n"
          ]
        },
        {
          "output_type": "stream",
          "name": "stdout",
          "text": [
            "Best Model Accuracy: 0.881\n",
            "Precision: 0.8850851275079434\n",
            "Recall: 0.881\n",
            "F1 Score: 0.882627476534929\n"
          ]
        }
      ]
    },
    {
      "cell_type": "code",
      "source": [
        "plt.figure(figsize=(10, 10))\n",
        "cm=confusion_matrix(y_test, y_pred)\n",
        "sns.heatmap(cm, annot=True)\n",
        "plt.show()"
      ],
      "metadata": {
        "colab": {
          "base_uri": "https://localhost:8080/",
          "height": 830
        },
        "id": "PKM94HzlfkrC",
        "outputId": "399834b1-b0bf-4d0c-a349-a30dbfb22bf6"
      },
      "execution_count": 213,
      "outputs": [
        {
          "output_type": "display_data",
          "data": {
            "text/plain": [
              "<Figure size 1000x1000 with 2 Axes>"
            ],
            "image/png": "[encoded data removed]"
          },
          "metadata": {}
        }
      ]
    },
    {
      "cell_type": "markdown",
      "source": [
        "#### With Holdout"
      ],
      "metadata": {
        "id": "NBEV6MGKAslZ"
      }
    },
    {
      "cell_type": "code",
      "source": [
        "\n",
        "\n",
        "mlp = MLPClassifier(max_iter=1000, early_stopping=True, random_state=42)\n",
        "\n",
        "param_grid = {\n",
        "    'hidden_layer_sizes': [(16,16), (16,32), (16, 32 , 64), (16 , 32 , 32)],\n",
        "    'activation': ['relu'],\n",
        "    'solver': ['adam'],\n",
        "    'learning_rate_init': [0.001, 0.01],\n",
        "}\n",
        "\n",
        "test_fold = [-1] * int(len(X_train) * 0.8) + [0] * int(len(X_train) * 0.2)\n",
        "ps = PredefinedSplit(test_fold)\n",
        "\n",
        "grid = GridSearchCV(\n",
        "    mlp,\n",
        "    param_grid,\n",
        "    cv=ps,\n",
        "    scoring='accuracy',\n",
        "    n_jobs=-1,\n",
        "    verbose=1\n",
        ")\n",
        "\n",
        "grid.fit(X_train, y_train)\n",
        "best_model = grid.best_estimator_\n",
        "y_pred = best_model.predict(X_test)\n",
        "accuracy = accuracy_score(y_test, y_pred)\n",
        "print(\"Best Model Accuracy:\", accuracy)"
      ],
      "metadata": {
        "colab": {
          "base_uri": "https://localhost:8080/"
        },
        "id": "JpYX3rwEfkoj",
        "outputId": "e0db115a-1543-4fa8-ca24-9f7059160bd7"
      },
      "execution_count": 222,
      "outputs": [
        {
          "output_type": "stream",
          "name": "stdout",
          "text": [
            "Fitting 1 folds for each of 8 candidates, totalling 8 fits\n"
          ]
        },
        {
          "output_type": "stream",
          "name": "stderr",
          "text": [
            "/usr/local/lib/python3.11/dist-packages/sklearn/neural_network/_multilayer_perceptron.py:1124: DataConversionWarning: A column-vector y was passed when a 1d array was expected. Please change the shape of y to (n_samples, ), for example using ravel().\n",
            "  y = column_or_1d(y, warn=True)\n"
          ]
        },
        {
          "output_type": "stream",
          "name": "stdout",
          "text": [
            "Best Model Accuracy: 0.894\n"
          ]
        }
      ]
    },
    {
      "cell_type": "code",
      "source": [
        "print(grid.best_params_)"
      ],
      "metadata": {
        "colab": {
          "base_uri": "https://localhost:8080/"
        },
        "id": "lWkSkEnhfkmP",
        "outputId": "3601cc20-15b5-4c83-c2d8-471e53269f88"
      },
      "execution_count": 223,
      "outputs": [
        {
          "output_type": "stream",
          "name": "stdout",
          "text": [
            "{'activation': 'relu', 'hidden_layer_sizes': (16, 16), 'learning_rate_init': 0.01, 'solver': 'adam'}\n"
          ]
        }
      ]
    },
    {
      "cell_type": "code",
      "source": [
        "precision = precision_score(y_test, y_pred, average='weighted')\n",
        "# Recall\n",
        "recall = recall_score(y_test, y_pred, average='weighted')\n",
        "# F1 Score\n",
        "f1 = f1_score(y_test, y_pred, average='weighted')\n",
        "print(\"Precision:\", precision)\n",
        "print(\"Recall:\", recall)\n",
        "print(\"F1 Score:\", f1)"
      ],
      "metadata": {
        "colab": {
          "base_uri": "https://localhost:8080/"
        },
        "id": "D0kA3taKfkkI",
        "outputId": "821ebef0-1faf-4074-d451-efc564d488a7"
      },
      "execution_count": 224,
      "outputs": [
        {
          "output_type": "stream",
          "name": "stdout",
          "text": [
            "Precision: 0.8952671817846236\n",
            "Recall: 0.894\n",
            "F1 Score: 0.8941571431749084\n"
          ]
        }
      ]
    },
    {
      "cell_type": "code",
      "source": [
        "plt.figure(figsize=(10, 10))\n",
        "cm=confusion_matrix(y_test, y_pred)\n",
        "sns.heatmap(cm, annot=True)\n",
        "plt.show()"
      ],
      "metadata": {
        "colab": {
          "base_uri": "https://localhost:8080/",
          "height": 830
        },
        "id": "HqQnHzbffkhf",
        "outputId": "c8847df6-4f15-4008-d6e4-4a3965d2af68"
      },
      "execution_count": 225,
      "outputs": [
        {
          "output_type": "display_data",
          "data": {
            "text/plain": [
              "<Figure size 1000x1000 with 2 Axes>"
            ],
            "image/png": "[encoded data removed]"
          },
          "metadata": {}
        }
      ]
    },
    {
      "cell_type": "code",
      "source": [
        "results = pd.DataFrame(grid.cv_results_)\n",
        "results_df = results[['param_activation', 'param_hidden_layer_sizes', 'param_learning_rate_init',\n",
        "                      'param_solver']]\n",
        "print(results_df.head())"
      ],
      "metadata": {
        "colab": {
          "base_uri": "https://localhost:8080/"
        },
        "id": "hczwCQKYB-4p",
        "outputId": "11e2db7f-3a83-45bd-a90c-0d195bbb30cd"
      },
      "execution_count": 226,
      "outputs": [
        {
          "output_type": "stream",
          "name": "stdout",
          "text": [
            "  param_activation param_hidden_layer_sizes  param_learning_rate_init  \\\n",
            "0             relu                 (16, 16)                     0.001   \n",
            "1             relu                 (16, 16)                     0.010   \n",
            "2             relu                 (16, 32)                     0.001   \n",
            "3             relu                 (16, 32)                     0.010   \n",
            "4             relu             (16, 32, 64)                     0.001   \n",
            "\n",
            "  param_solver  \n",
            "0         adam  \n",
            "1         adam  \n",
            "2         adam  \n",
            "3         adam  \n",
            "4         adam  \n"
          ]
        }
      ]
    },
    {
      "cell_type": "markdown",
      "source": [
        "#### Another Parameter Settings 1"
      ],
      "metadata": {
        "id": "Mfedm9OCBtZy"
      }
    },
    {
      "cell_type": "code",
      "source": [
        "chosen_params = results.loc[5, 'params']\n",
        "chosen_params"
      ],
      "metadata": {
        "colab": {
          "base_uri": "https://localhost:8080/"
        },
        "id": "uFewdVZ4fke5",
        "outputId": "515a6ea1-3406-43e8-a2fd-104c1febe81d"
      },
      "execution_count": 227,
      "outputs": [
        {
          "output_type": "execute_result",
          "data": {
            "text/plain": [
              "{'activation': 'relu',\n",
              " 'hidden_layer_sizes': (16, 32, 64),\n",
              " 'learning_rate_init': 0.01,\n",
              " 'solver': 'adam'}"
            ]
          },
          "metadata": {},
          "execution_count": 227
        }
      ]
    },
    {
      "cell_type": "code",
      "source": [
        "model = MLPClassifier(**chosen_params)\n",
        "model.fit(X_train, y_train)\n",
        "y_pred = model.predict(X_test)\n",
        "accuracy = accuracy_score(y_test, y_pred)\n",
        "print(\"Best Model Accuracy:\", accuracy)\n",
        "precision = precision_score(y_test, y_pred, average='weighted')\n",
        "# Recall\n",
        "recall = recall_score(y_test, y_pred, average='weighted')\n",
        "# F1 Score\n",
        "f1 = f1_score(y_test, y_pred, average='weighted')\n",
        "print(\"Precision:\", precision)\n",
        "print(\"Recall:\", recall)\n",
        "print(\"F1 Score:\", f1)"
      ],
      "metadata": {
        "colab": {
          "base_uri": "https://localhost:8080/"
        },
        "id": "zKqYEM-QCJ_7",
        "outputId": "819c416b-537c-4ea7-b6f8-d823080e5bd8"
      },
      "execution_count": 228,
      "outputs": [
        {
          "output_type": "stream",
          "name": "stderr",
          "text": [
            "/usr/local/lib/python3.11/dist-packages/sklearn/neural_network/_multilayer_perceptron.py:1124: DataConversionWarning: A column-vector y was passed when a 1d array was expected. Please change the shape of y to (n_samples, ), for example using ravel().\n",
            "  y = column_or_1d(y, warn=True)\n"
          ]
        },
        {
          "output_type": "stream",
          "name": "stdout",
          "text": [
            "Best Model Accuracy: 0.886\n",
            "Precision: 0.880861575617705\n",
            "Recall: 0.886\n",
            "F1 Score: 0.8831209631713817\n"
          ]
        },
        {
          "output_type": "stream",
          "name": "stderr",
          "text": [
            "/usr/local/lib/python3.11/dist-packages/sklearn/metrics/_classification.py:1565: UndefinedMetricWarning: Precision is ill-defined and being set to 0.0 in labels with no predicted samples. Use `zero_division` parameter to control this behavior.\n",
            "  _warn_prf(average, modifier, f\"{metric.capitalize()} is\", len(result))\n"
          ]
        }
      ]
    },
    {
      "cell_type": "code",
      "source": [
        "plt.figure(figsize=(10, 10))\n",
        "cm=confusion_matrix(y_test, y_pred)\n",
        "sns.heatmap(cm, annot=True)\n",
        "plt.show()"
      ],
      "metadata": {
        "colab": {
          "base_uri": "https://localhost:8080/",
          "height": 830
        },
        "id": "AhplQP_3CMQn",
        "outputId": "ecf52b31-8463-4fb6-f684-3ed0cca8c866"
      },
      "execution_count": 229,
      "outputs": [
        {
          "output_type": "display_data",
          "data": {
            "text/plain": [
              "<Figure size 1000x1000 with 2 Axes>"
            ],
            "image/png": "[encoded data removed]"
          },
          "metadata": {}
        }
      ]
    },
    {
      "cell_type": "markdown",
      "source": [
        "#### Another Parametere Setting 2"
      ],
      "metadata": {
        "id": "POfRlDb3COIv"
      }
    },
    {
      "cell_type": "code",
      "source": [
        "chosen_params = results.loc[7, 'params']\n",
        "chosen_params"
      ],
      "metadata": {
        "colab": {
          "base_uri": "https://localhost:8080/"
        },
        "id": "4H_tG5MDCR11",
        "outputId": "d3c34814-dc95-4f45-e2cd-7e5df27f6f52"
      },
      "execution_count": 230,
      "outputs": [
        {
          "output_type": "execute_result",
          "data": {
            "text/plain": [
              "{'activation': 'relu',\n",
              " 'hidden_layer_sizes': (16, 32, 32),\n",
              " 'learning_rate_init': 0.01,\n",
              " 'solver': 'adam'}"
            ]
          },
          "metadata": {},
          "execution_count": 230
        }
      ]
    },
    {
      "cell_type": "code",
      "source": [
        "model = MLPClassifier(**chosen_params)\n",
        "model.fit(X_train, y_train)\n",
        "y_pred = model.predict(X_test)\n",
        "accuracy = accuracy_score(y_test, y_pred)\n",
        "print(\"Best Model Accuracy:\", accuracy)\n",
        "precision = precision_score(y_test, y_pred, average='weighted')\n",
        "# Recall\n",
        "recall = recall_score(y_test, y_pred, average='weighted')\n",
        "# F1 Score\n",
        "f1 = f1_score(y_test, y_pred, average='weighted')\n",
        "print(\"Precision:\", precision)\n",
        "print(\"Recall:\", recall)\n",
        "print(\"F1 Score:\", f1)"
      ],
      "metadata": {
        "colab": {
          "base_uri": "https://localhost:8080/"
        },
        "id": "g5SCW9ZgCVJW",
        "outputId": "4a93d7ea-36c4-4e65-ab8b-ed4953387ab2"
      },
      "execution_count": 231,
      "outputs": [
        {
          "output_type": "stream",
          "name": "stderr",
          "text": [
            "/usr/local/lib/python3.11/dist-packages/sklearn/neural_network/_multilayer_perceptron.py:1124: DataConversionWarning: A column-vector y was passed when a 1d array was expected. Please change the shape of y to (n_samples, ), for example using ravel().\n",
            "  y = column_or_1d(y, warn=True)\n"
          ]
        },
        {
          "output_type": "stream",
          "name": "stdout",
          "text": [
            "Best Model Accuracy: 0.908\n",
            "Precision: 0.9077021956612387\n",
            "Recall: 0.908\n",
            "F1 Score: 0.9058364631356187\n"
          ]
        }
      ]
    },
    {
      "cell_type": "code",
      "source": [
        "plt.figure(figsize=(10, 10))\n",
        "cm=confusion_matrix(y_test, y_pred)\n",
        "sns.heatmap(cm, annot=True)\n",
        "plt.show()"
      ],
      "metadata": {
        "colab": {
          "base_uri": "https://localhost:8080/",
          "height": 830
        },
        "id": "CLu3jhq3CYxn",
        "outputId": "66963e9a-89b3-4ab2-9c76-6bc4f9208b9a"
      },
      "execution_count": 232,
      "outputs": [
        {
          "output_type": "display_data",
          "data": {
            "text/plain": [
              "<Figure size 1000x1000 with 2 Axes>"
            ],
            "image/png": "[encoded data removed]"
          },
          "metadata": {}
        }
      ]
    },
    {
      "cell_type": "markdown",
      "source": [
        "## Random Forest"
      ],
      "metadata": {
        "id": "JrIrjMHaCwT8"
      }
    },
    {
      "cell_type": "code",
      "source": [],
      "metadata": {
        "id": "g-LLGP-vCzum"
      },
      "execution_count": null,
      "outputs": []
    },
    {
      "cell_type": "code",
      "source": [],
      "metadata": {
        "id": "UdWM1uu2Czsb"
      },
      "execution_count": null,
      "outputs": []
    },
    {
      "cell_type": "code",
      "source": [],
      "metadata": {
        "id": "OGxX9fCCCzqC"
      },
      "execution_count": null,
      "outputs": []
    },
    {
      "cell_type": "code",
      "source": [],
      "metadata": {
        "id": "5LY-BLkWCznu"
      },
      "execution_count": null,
      "outputs": []
    },
    {
      "cell_type": "code",
      "source": [],
      "metadata": {
        "id": "STY29w9bCzk-"
      },
      "execution_count": null,
      "outputs": []
    },
    {
      "cell_type": "code",
      "source": [],
      "metadata": {
        "id": "1O2D8DV3Czie"
      },
      "execution_count": null,
      "outputs": []
    },
    {
      "cell_type": "code",
      "source": [],
      "metadata": {
        "id": "z903AuK5CzIl"
      },
      "execution_count": null,
      "outputs": []
    }
  ]
}